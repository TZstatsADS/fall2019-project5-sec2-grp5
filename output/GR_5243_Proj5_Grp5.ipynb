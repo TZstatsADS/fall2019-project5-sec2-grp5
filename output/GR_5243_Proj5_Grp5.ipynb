{
  "nbformat": 4,
  "nbformat_minor": 0,
  "metadata": {
    "colab": {
      "name": "GR 5243 Proj5.ipynb",
      "provenance": [],
      "collapsed_sections": []
    },
    "kernelspec": {
      "name": "python3",
      "display_name": "Python 3"
    }
  },
  "cells": [
    {
      "cell_type": "code",
      "metadata": {
        "id": "j6J0-VH5M4KV",
        "colab_type": "code",
        "colab": {}
      },
      "source": [
        "!pip install --upgrade tensorflow"
      ],
      "execution_count": 0,
      "outputs": []
    },
    {
      "cell_type": "code",
      "metadata": {
        "id": "J85JI8h5MzEK",
        "colab_type": "code",
        "outputId": "58347a64-71ee-468c-ca71-8be40461e83c",
        "colab": {
          "base_uri": "https://localhost:8080/",
          "height": 68
        }
      },
      "source": [
        "!pip install -q tensorflow tensorflow-datasets matplotlib\n",
        "import numpy as np\n",
        "import tensorflow as tf\n",
        "import pandas as pd\n",
        "import matplotlib.pyplot as plt\n",
        "import tensorflow_datasets as tfds\n",
        "import tensorflow_hub as hub\n",
        "import os\n",
        "import cv2\n",
        "import random\n",
        "from google.colab import files\n",
        "from sklearn.model_selection import train_test_split\n",
        "from keras.utils import to_categorical\n",
        "print(\"TF version: \",tf.__version__)\n",
        "print(\"Keras version:\",tf.keras.__version__)\n",
        "#import necessary packages"
      ],
      "execution_count": 1,
      "outputs": [
        {
          "output_type": "stream",
          "text": [
            "TF version:  2.0.0\n",
            "Keras version: 2.2.4-tf\n"
          ],
          "name": "stdout"
        },
        {
          "output_type": "stream",
          "text": [
            "Using TensorFlow backend.\n"
          ],
          "name": "stderr"
        }
      ]
    },
    {
      "cell_type": "code",
      "metadata": {
        "id": "J9d13tizQ5wJ",
        "colab_type": "code",
        "outputId": "df5d17e5-97f9-4a66-f2ed-ce9ffd793b77",
        "colab": {
          "resources": {
            "http://localhost:8080/nbextensions/google.colab/files.js": {
              "data": "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",
              "ok": true,
              "headers": [
                [
                  "content-type",
                  "application/javascript"
                ]
              ],
              "status": 200,
              "status_text": ""
            }
          },
          "base_uri": "https://localhost:8080/",
          "height": 74
        }
      },
      "source": [
        "uploaded = files.upload()"
      ],
      "execution_count": 3,
      "outputs": [
        {
          "output_type": "display_data",
          "data": {
            "text/html": [
              "\n",
              "     <input type=\"file\" id=\"files-2941a723-5965-42f2-a84d-684801c14716\" name=\"files[]\" multiple disabled />\n",
              "     <output id=\"result-2941a723-5965-42f2-a84d-684801c14716\">\n",
              "      Upload widget is only available when the cell has been executed in the\n",
              "      current browser session. Please rerun this cell to enable.\n",
              "      </output>\n",
              "      <script src=\"/nbextensions/google.colab/files.js\"></script> "
            ],
            "text/plain": [
              "<IPython.core.display.HTML object>"
            ]
          },
          "metadata": {
            "tags": []
          }
        },
        {
          "output_type": "stream",
          "text": [
            "Saving fer2013.csv to fer2013.csv\n"
          ],
          "name": "stdout"
        }
      ]
    },
    {
      "cell_type": "code",
      "metadata": {
        "id": "q3V4Si1BRO-L",
        "colab_type": "code",
        "colab": {}
      },
      "source": [
        "data = pd.read_csv('fer2013.csv')"
      ],
      "execution_count": 0,
      "outputs": []
    },
    {
      "cell_type": "code",
      "metadata": {
        "id": "NmEyqcAkYxEI",
        "colab_type": "code",
        "colab": {}
      },
      "source": [
        "data.values"
      ],
      "execution_count": 0,
      "outputs": []
    },
    {
      "cell_type": "code",
      "metadata": {
        "id": "igMRmCYJYyu_",
        "colab_type": "code",
        "colab": {}
      },
      "source": [
        "def decodeY(y):\n",
        "    if y==0:\n",
        "        return 'Angry'\n",
        "    elif y==1:\n",
        "        return 'Disgust'\n",
        "    elif y==2:\n",
        "        return 'Fear'\n",
        "    elif y==3:\n",
        "        return 'Happy'\n",
        "    elif y==4:\n",
        "        return 'Sad'\n",
        "    elif y==5:\n",
        "        return 'Surprise'\n",
        "    else:\n",
        "        return 'Neutral'\n",
        "#Decode 0-6 to 7 different emotions"
      ],
      "execution_count": 0,
      "outputs": []
    },
    {
      "cell_type": "code",
      "metadata": {
        "id": "8rdMhPQKY5bq",
        "colab_type": "code",
        "colab": {}
      },
      "source": [
        "def createData(data, test_size):\n",
        "    data = data.values\n",
        "    y = data[:, 0]\n",
        "    pixels = data[:, 1]\n",
        "    \n",
        "    data_discarded = 0\n",
        "    X = []\n",
        "    Y = []\n",
        "    count = 0\n",
        "    for ix in range(pixels.shape[0]):\n",
        "            if count%1000 == 0:\n",
        "                print(\"[INFO] {} images loaded\".format(count))\n",
        "            temp = np.zeros((48*48))\n",
        "            p = pixels[ix].split(' ')\n",
        "            if len(pixels[ix].split(' '))>=2304:\n",
        "              for iy in range(temp.shape[0]):\n",
        "                   temp[iy] = int(p[iy])\n",
        "              X.append(temp)\n",
        "              Y.append(y[ix])\n",
        "              count+=1\n",
        "    X_train, X_test, y_train, y_test = train_test_split(X, Y, test_size=test_size, shuffle=True)  \n",
        "    y_train = to_categorical(y_train)\n",
        "    y_test = to_categorical(y_test)\n",
        "    print(\"[INFO] Done\")\n",
        "    \n",
        "    return np.array(X_train), np.array(X_test), y_train, y_test\n",
        "#Generate images based on image pixels"
      ],
      "execution_count": 0,
      "outputs": []
    },
    {
      "cell_type": "code",
      "metadata": {
        "id": "2IoBDhsPZBMI",
        "colab_type": "code",
        "colab": {}
      },
      "source": [
        "X_train, X_test, y_train, y_test = createData(data, 0.2)\n",
        "#Separate training and testing sets"
      ],
      "execution_count": 0,
      "outputs": []
    },
    {
      "cell_type": "code",
      "metadata": {
        "id": "E47T60RtZnTm",
        "colab_type": "code",
        "outputId": "94931c50-b7e6-488f-c435-af04a6ff6e36",
        "colab": {
          "base_uri": "https://localhost:8080/",
          "height": 1000
        }
      },
      "source": [
        "def showImage(X, y):\n",
        "    for ix in range(4):\n",
        "        plt.figure(ix)\n",
        "        plt.title(decodeY(np.argmax(y[ix])))\n",
        "        plt.imshow(X[ix].reshape((48, 48)), interpolation='none', cmap='gray')\n",
        "    plt.show()\n",
        "showImage(X_train, y_train)\n",
        "#Plot the images "
      ],
      "execution_count": 21,
      "outputs": [
        {
          "output_type": "display_data",
          "data": {
            "image/png": "[encoded data removed]",
            "text/plain": [
              "<Figure size 432x288 with 1 Axes>"
            ]
          },
          "metadata": {
            "tags": []
          }
        },
        {
          "output_type": "display_data",
          "data": {
            "image/png": "[encoded data removed]",
            "text/plain": [
              "<Figure size 432x288 with 1 Axes>"
            ]
          },
          "metadata": {
            "tags": []
          }
        },
        {
          "output_type": "display_data",
          "data": {
            "image/png": "[encoded data removed]",
            "text/plain": [
              "<Figure size 432x288 with 1 Axes>"
            ]
          },
          "metadata": {
            "tags": []
          }
        },
        {
          "output_type": "display_data",
          "data": {
            "image/png": "[encoded data removed]",
            "text/plain": [
              "<Figure size 432x288 with 1 Axes>"
            ]
          },
          "metadata": {
            "tags": []
          }
        }
      ]
    },
    {
      "cell_type": "code",
      "metadata": {
        "id": "G31K90kPZqfR",
        "colab_type": "code",
        "colab": {}
      },
      "source": [
        "X_train = X_train.reshape((X_train.shape[0], 48, 48, 1))\n",
        "X_test = X_test.reshape((X_test.shape[0], 48, 48, 1))\n",
        "#Reshape X_train and X_test"
      ],
      "execution_count": 0,
      "outputs": []
    },
    {
      "cell_type": "code",
      "metadata": {
        "id": "q7tROwT6bStW",
        "colab_type": "code",
        "outputId": "0318b39f-a6e5-4636-b9a9-51ec8e7ffb6f",
        "colab": {
          "base_uri": "https://localhost:8080/",
          "height": 697
        }
      },
      "source": [
        "image_size = 48\n",
        "image_channel = 1\n",
        "input_shape = (image_size, image_size, image_channel)\n",
        "mobilenet_transfer = tf.keras.Sequential([\n",
        "     tf.keras.layers.Conv2D(32, kernel_size = (3, 3), padding = 'same', \n",
        "     activation = 'relu', input_shape = input_shape, name = 'conv_1'),  \n",
        "     tf.keras.layers.MaxPooling2D(pool_size = (2, 2), name = 'pooling_1'),\n",
        "\n",
        "     tf.keras.layers.Conv2D(64, kernel_size = (3, 3), padding = 'same', \n",
        "     activation = 'relu', name = 'conv_2'),\n",
        "     tf.keras.layers.Conv2D(64, kernel_size = (3, 3), padding = 'same', \n",
        "     activation = 'relu', name = 'conv_3'),     \n",
        "     tf.keras.layers.MaxPooling2D(pool_size = (2, 2), name = 'pooling_2'),\n",
        "\n",
        "     tf.keras.layers.Conv2D(64, kernel_size = (3, 3), padding = 'same', \n",
        "     activation = 'relu', name = 'conv_4'),\n",
        "     tf.keras.layers.Conv2D(64, kernel_size = (3, 3), padding = 'same', \n",
        "     activation = 'relu', name = 'conv_5'),\n",
        "     tf.keras.layers.MaxPooling2D(pool_size = (2, 2), name = 'pooling_3'),\n",
        "\n",
        "     tf.keras.layers.Conv2D(128, kernel_size = (3, 3), padding = 'same', \n",
        "     activation = 'relu', name = 'conv_6'), \n",
        "     tf.keras.layers.Conv2D(128, kernel_size = (3, 3), padding = 'same', \n",
        "     activation = 'relu', name = 'conv_7'),\n",
        "     tf.keras.layers.Conv2D(128, kernel_size = (3, 3), padding = 'same', \n",
        "     activation = 'relu', name = 'conv_8'),    \n",
        "     tf.keras.layers.MaxPooling2D(pool_size = (2, 2), name = 'pooling_4'),\n",
        "\n",
        "     tf.keras.layers.Dropout(0.5),\n",
        "     tf.keras.layers.Flatten(),\n",
        "     tf.keras.layers.Dense(128, activation = 'relu', name = 'fully_connected_1'),\n",
        "     tf.keras.layers.Dense(7, activation = 'softmax', name = 'fully_connected_2')\n",
        "                                      ])\n",
        "mobilenet_transfer.summary()\n",
        "#Construct Convolutional Neural Networks Model"
      ],
      "execution_count": 0,
      "outputs": [
        {
          "output_type": "stream",
          "text": [
            "Model: \"sequential_10\"\n",
            "_________________________________________________________________\n",
            "Layer (type)                 Output Shape              Param #   \n",
            "=================================================================\n",
            "conv_1 (Conv2D)              (None, 48, 48, 32)        320       \n",
            "_________________________________________________________________\n",
            "pooling_1 (MaxPooling2D)     (None, 24, 24, 32)        0         \n",
            "_________________________________________________________________\n",
            "conv_2 (Conv2D)              (None, 24, 24, 64)        18496     \n",
            "_________________________________________________________________\n",
            "conv_3 (Conv2D)              (None, 24, 24, 64)        36928     \n",
            "_________________________________________________________________\n",
            "pooling_2 (MaxPooling2D)     (None, 12, 12, 64)        0         \n",
            "_________________________________________________________________\n",
            "conv_4 (Conv2D)              (None, 12, 12, 64)        36928     \n",
            "_________________________________________________________________\n",
            "conv_5 (Conv2D)              (None, 12, 12, 64)        36928     \n",
            "_________________________________________________________________\n",
            "pooling_3 (MaxPooling2D)     (None, 6, 6, 64)          0         \n",
            "_________________________________________________________________\n",
            "conv_6 (Conv2D)              (None, 6, 6, 128)         73856     \n",
            "_________________________________________________________________\n",
            "conv_7 (Conv2D)              (None, 6, 6, 128)         147584    \n",
            "_________________________________________________________________\n",
            "conv_8 (Conv2D)              (None, 6, 6, 128)         147584    \n",
            "_________________________________________________________________\n",
            "pooling_4 (MaxPooling2D)     (None, 3, 3, 128)         0         \n",
            "_________________________________________________________________\n",
            "dropout_6 (Dropout)          (None, 3, 3, 128)         0         \n",
            "_________________________________________________________________\n",
            "flatten_10 (Flatten)         (None, 1152)              0         \n",
            "_________________________________________________________________\n",
            "fully_connected_1 (Dense)    (None, 128)               147584    \n",
            "_________________________________________________________________\n",
            "fully_connected_2 (Dense)    (None, 7)                 903       \n",
            "=================================================================\n",
            "Total params: 647,111\n",
            "Trainable params: 647,111\n",
            "Non-trainable params: 0\n",
            "_________________________________________________________________\n"
          ],
          "name": "stdout"
        }
      ]
    },
    {
      "cell_type": "code",
      "metadata": {
        "id": "QRFKRk2acJVt",
        "colab_type": "code",
        "colab": {}
      },
      "source": [
        "mobilenet_transfer.compile(optimizer = 'adam',\n",
        "                       loss = 'categorical_crossentropy',\n",
        "                       metrics = ['accuracy'])\n",
        "#Specify loss and optimizer"
      ],
      "execution_count": 0,
      "outputs": []
    },
    {
      "cell_type": "code",
      "metadata": {
        "id": "GZuBj8gVcMbC",
        "colab_type": "code",
        "outputId": "68c29250-2927-475d-89e1-841a77ebd0b9",
        "colab": {
          "base_uri": "https://localhost:8080/",
          "height": 374
        }
      },
      "source": [
        "model_fitted = mobilenet_transfer.fit(\n",
        "   X_train,\n",
        "   y_train,\n",
        "   epochs = 10,\n",
        "   batch_size = 32, \n",
        "   validation_data = (X_test, y_test))\n",
        "#Train the model with batch size 32 and 10 epochs"
      ],
      "execution_count": 0,
      "outputs": [
        {
          "output_type": "stream",
          "text": [
            "Train on 28709 samples, validate on 7178 samples\n",
            "Epoch 1/10\n",
            "28709/28709 [==============================] - 366s 13ms/sample - loss: 1.7208 - accuracy: 0.3068 - val_loss: 1.5130 - val_accuracy: 0.4125\n",
            "Epoch 2/10\n",
            "28709/28709 [==============================] - 364s 13ms/sample - loss: 1.4801 - accuracy: 0.4222 - val_loss: 1.4000 - val_accuracy: 0.4621\n",
            "Epoch 3/10\n",
            "28709/28709 [==============================] - 364s 13ms/sample - loss: 1.3678 - accuracy: 0.4699 - val_loss: 1.3151 - val_accuracy: 0.4908\n",
            "Epoch 4/10\n",
            "28709/28709 [==============================] - 364s 13ms/sample - loss: 1.2900 - accuracy: 0.5015 - val_loss: 1.2876 - val_accuracy: 0.5011\n",
            "Epoch 5/10\n",
            "28709/28709 [==============================] - 364s 13ms/sample - loss: 1.2496 - accuracy: 0.5179 - val_loss: 1.2972 - val_accuracy: 0.5114\n",
            "Epoch 6/10\n",
            "28709/28709 [==============================] - 369s 13ms/sample - loss: 1.2024 - accuracy: 0.5399 - val_loss: 1.2452 - val_accuracy: 0.5217\n",
            "Epoch 7/10\n",
            "28709/28709 [==============================] - 368s 13ms/sample - loss: 1.1662 - accuracy: 0.5539 - val_loss: 1.2768 - val_accuracy: 0.5121\n",
            "Epoch 8/10\n",
            "28709/28709 [==============================] - 368s 13ms/sample - loss: 1.1361 - accuracy: 0.5640 - val_loss: 1.2320 - val_accuracy: 0.5326\n",
            "Epoch 9/10\n",
            "28709/28709 [==============================] - 368s 13ms/sample - loss: 1.1099 - accuracy: 0.5788 - val_loss: 1.2172 - val_accuracy: 0.5334\n",
            "Epoch 10/10\n",
            "28709/28709 [==============================] - 369s 13ms/sample - loss: 1.0898 - accuracy: 0.5849 - val_loss: 1.2041 - val_accuracy: 0.5408\n"
          ],
          "name": "stdout"
        }
      ]
    },
    {
      "cell_type": "markdown",
      "metadata": {
        "id": "HBXbh_qIRHq8",
        "colab_type": "text"
      },
      "source": [
        "The loss decreases from 1.7208 to 1.0898 as well as validation loss decreases from 1.5130 to 1.2041. Both training and validation accuracy increase a significant amount. After 10 epochs, the training accuracy is 0.5849 and validation accuracy 0.5408 which overfitting is not a concern."
      ]
    },
    {
      "cell_type": "code",
      "metadata": {
        "id": "NyZ3pNa-QQSm",
        "colab_type": "code",
        "outputId": "5d187599-40fb-45bc-e8fc-7218a90664be",
        "colab": {
          "base_uri": "https://localhost:8080/",
          "height": 312
        }
      },
      "source": [
        "plt.plot(model_fitted.history['accuracy'], \"-b\", label = \"Training\")\n",
        "plt.plot(model_fitted.history['val_accuracy'], \"-g\", label = \"Validation\")\n",
        "plt.legend(loc = 'lower right')\n",
        "plt.title('Training Accuracy vs Validation Accuracy', loc = 'center')\n",
        "plt.xlabel('Epoch')\n",
        "plt.ylabel('Accuracy')\n",
        "#Plot training accuracy vs validation accuracy"
      ],
      "execution_count": 0,
      "outputs": [
        {
          "output_type": "execute_result",
          "data": {
            "text/plain": [
              "Text(0, 0.5, 'Accuracy')"
            ]
          },
          "metadata": {
            "tags": []
          },
          "execution_count": 125
        },
        {
          "output_type": "display_data",
          "data": {
            "image/png": "[encoded data removed]",
            "text/plain": [
              "<Figure size 432x288 with 1 Axes>"
            ]
          },
          "metadata": {
            "tags": []
          }
        }
      ]
    },
    {
      "cell_type": "code",
      "metadata": {
        "id": "qBlUpTwc6F9L",
        "colab_type": "code",
        "colab": {}
      },
      "source": [
        "def createData_three_channels(data, test_size):\n",
        "    data = data.values\n",
        "    y = data[:, 0]\n",
        "    pixels = data[:, 1]\n",
        "    data_discarded = 0\n",
        "    X = []\n",
        "    Y = []\n",
        "    count = 0\n",
        "    for ix in range(pixels.shape[0]):\n",
        "            if count%1000 == 0:\n",
        "                print(\"[INFO] {} images loaded\".format(count))\n",
        "            temp = np.zeros((48*48))\n",
        "            p = pixels[ix].split(' ')\n",
        "            if len(pixels[ix].split(' '))>=2304:\n",
        "              for iy in range(temp.shape[0]):\n",
        "                   temp[iy] = int(p[iy])\n",
        "              X.append(temp)\n",
        "              Y.append(y[ix])\n",
        "              count+=1\n",
        "    X_train, X_test, y_train, y_test = train_test_split(X, Y, test_size=test_size, shuffle=True)  \n",
        "    y_train = to_categorical(y_train)\n",
        "    y_test = to_categorical(y_test)\n",
        "    \n",
        "    X_train_3 = np.stack((X_train,)*3, axis=-1)\n",
        "    X_test_3 = np.stack((X_test,)*3, axis=-1)\n",
        "\n",
        "    print(\"[INFO] Done\")\n",
        "    return np.array(X_train_3), np.array(X_test_3), y_train, y_test\n",
        "#Modify the function from single channel into three channels"
      ],
      "execution_count": 0,
      "outputs": []
    },
    {
      "cell_type": "code",
      "metadata": {
        "id": "SlK6g76S6IEO",
        "colab_type": "code",
        "outputId": "0a949fb3-300d-4410-ec69-69c24b2db9ab",
        "colab": {
          "base_uri": "https://localhost:8080/",
          "height": 646
        }
      },
      "source": [
        "X_train_3, X_test_3, y_train, y_test = createData_three_channels(data, 0.2)\n",
        "#Load the images as well as split the training and testing sets"
      ],
      "execution_count": 9,
      "outputs": [
        {
          "output_type": "stream",
          "text": [
            "[INFO] 0 images loaded\n",
            "[INFO] 1000 images loaded\n",
            "[INFO] 2000 images loaded\n",
            "[INFO] 3000 images loaded\n",
            "[INFO] 4000 images loaded\n",
            "[INFO] 5000 images loaded\n",
            "[INFO] 6000 images loaded\n",
            "[INFO] 7000 images loaded\n",
            "[INFO] 8000 images loaded\n",
            "[INFO] 9000 images loaded\n",
            "[INFO] 10000 images loaded\n",
            "[INFO] 11000 images loaded\n",
            "[INFO] 12000 images loaded\n",
            "[INFO] 13000 images loaded\n",
            "[INFO] 14000 images loaded\n",
            "[INFO] 15000 images loaded\n",
            "[INFO] 16000 images loaded\n",
            "[INFO] 17000 images loaded\n",
            "[INFO] 18000 images loaded\n",
            "[INFO] 19000 images loaded\n",
            "[INFO] 20000 images loaded\n",
            "[INFO] 21000 images loaded\n",
            "[INFO] 22000 images loaded\n",
            "[INFO] 23000 images loaded\n",
            "[INFO] 24000 images loaded\n",
            "[INFO] 25000 images loaded\n",
            "[INFO] 26000 images loaded\n",
            "[INFO] 27000 images loaded\n",
            "[INFO] 28000 images loaded\n",
            "[INFO] 29000 images loaded\n",
            "[INFO] 30000 images loaded\n",
            "[INFO] 31000 images loaded\n",
            "[INFO] 32000 images loaded\n",
            "[INFO] 33000 images loaded\n",
            "[INFO] 34000 images loaded\n",
            "[INFO] 35000 images loaded\n",
            "[INFO] Done\n"
          ],
          "name": "stdout"
        }
      ]
    },
    {
      "cell_type": "code",
      "metadata": {
        "id": "AzdZfxu37BNh",
        "colab_type": "code",
        "colab": {}
      },
      "source": [
        "X_train_3 = X_train_3.reshape((X_train_3.shape[0], 48, 48, 3))\n",
        "X_test_3 = X_test_3.reshape((X_test_3.shape[0], 48, 48, 3))\n",
        "#Reshape the images into three channels"
      ],
      "execution_count": 0,
      "outputs": []
    },
    {
      "cell_type": "code",
      "metadata": {
        "id": "in8ug11IybEG",
        "colab_type": "code",
        "outputId": "b93a5260-2961-44fb-f1bd-0b95a1818de5",
        "colab": {
          "base_uri": "https://localhost:8080/",
          "height": 71
        }
      },
      "source": [
        "MobileNet = tf.keras.applications.MobileNetV2(input_shape = (48, 48, 3), include_top = False, weights = 'imagenet')\n",
        "#Load MobileNet "
      ],
      "execution_count": 0,
      "outputs": [
        {
          "output_type": "stream",
          "text": [
            "/usr/local/lib/python3.6/dist-packages/keras_applications/mobilenet_v2.py:294: UserWarning: `input_shape` is undefined or non-square, or `rows` is not in [96, 128, 160, 192, 224]. Weights for input shape (224, 224) will be loaded as the default.\n",
            "  warnings.warn('`input_shape` is undefined or non-square, '\n"
          ],
          "name": "stderr"
        }
      ]
    },
    {
      "cell_type": "code",
      "metadata": {
        "id": "CVd060h13nzh",
        "colab_type": "code",
        "outputId": "cd4c0e32-eb08-4c5a-bc90-ffa706451a89",
        "colab": {
          "base_uri": "https://localhost:8080/",
          "height": 391
        }
      },
      "source": [
        "model_fitted_mobilenet = tf.keras.Sequential([\n",
        "     MobileNet,\n",
        "     tf.keras.layers.Conv2D(128, kernel_size = (3, 3), activation = 'relu', padding = 'same', name = 'conv_ex1'),\n",
        "     tf.keras.layers.Flatten(),\n",
        "     tf.keras.layers.Dense(1024, activation = 'relu', name = 'fully_connected_1'),\n",
        "     tf.keras.layers.Dense(1024, activation = 'relu', name = 'fully_connected_2'),\n",
        "     tf.keras.layers.Dense(512, activation = 'relu', name = 'fully_connected_3'),\n",
        "     tf.keras.layers.Dense(7, activation = 'softmax', name = 'fully_connected_4')\n",
        "                                      ])\n",
        "model_fitted_mobilenet.summary()\n",
        "#Construct model based on MobileNet transfer learning"
      ],
      "execution_count": 0,
      "outputs": [
        {
          "output_type": "stream",
          "text": [
            "Model: \"sequential_2\"\n",
            "_________________________________________________________________\n",
            "Layer (type)                 Output Shape              Param #   \n",
            "=================================================================\n",
            "mobilenetv2_1.00_224 (Model) (None, 2, 2, 1280)        2257984   \n",
            "_________________________________________________________________\n",
            "conv_ex1 (Conv2D)            (None, 2, 2, 128)         1474688   \n",
            "_________________________________________________________________\n",
            "flatten_2 (Flatten)          (None, 512)               0         \n",
            "_________________________________________________________________\n",
            "fully_connected_1 (Dense)    (None, 1024)              525312    \n",
            "_________________________________________________________________\n",
            "fully_connected_2 (Dense)    (None, 1024)              1049600   \n",
            "_________________________________________________________________\n",
            "fully_connected_3 (Dense)    (None, 512)               524800    \n",
            "_________________________________________________________________\n",
            "fully_connected_4 (Dense)    (None, 7)                 3591      \n",
            "=================================================================\n",
            "Total params: 5,835,975\n",
            "Trainable params: 5,801,863\n",
            "Non-trainable params: 34,112\n",
            "_________________________________________________________________\n"
          ],
          "name": "stdout"
        }
      ]
    },
    {
      "cell_type": "code",
      "metadata": {
        "id": "UB2Jjth04S5d",
        "colab_type": "code",
        "colab": {}
      },
      "source": [
        "model_fitted_mobilenet.compile(optimizer = 'adam',\n",
        "                       loss = 'categorical_crossentropy',\n",
        "                       metrics = ['accuracy'])\n",
        "#Specify loss and optimizer"
      ],
      "execution_count": 0,
      "outputs": []
    },
    {
      "cell_type": "code",
      "metadata": {
        "id": "6APDzv8i4bjg",
        "colab_type": "code",
        "outputId": "d23ce81c-065b-4406-9ee5-0bca49f012e2",
        "colab": {
          "base_uri": "https://localhost:8080/",
          "height": 374
        }
      },
      "source": [
        "model_fitted_1 = model_fitted_mobilenet.fit(\n",
        "   X_train_3,\n",
        "   y_train,\n",
        "   epochs = 10,\n",
        "   batch_size = 32, \n",
        "   validation_data = (X_test_3, y_test))\n",
        "#Train the model with 10 epochs and batch size 32"
      ],
      "execution_count": 0,
      "outputs": [
        {
          "output_type": "stream",
          "text": [
            "Train on 28709 samples, validate on 7178 samples\n",
            "Epoch 1/10\n",
            "28709/28709 [==============================] - 913s 32ms/sample - loss: 1.6037 - accuracy: 0.3632 - val_loss: 1.8413 - val_accuracy: 0.1686\n",
            "Epoch 2/10\n",
            "28709/28709 [==============================] - 904s 32ms/sample - loss: 1.5381 - accuracy: 0.3853 - val_loss: 2.1594 - val_accuracy: 0.1567\n",
            "Epoch 3/10\n",
            "28709/28709 [==============================] - 906s 32ms/sample - loss: 1.4996 - accuracy: 0.4046 - val_loss: 1.9526 - val_accuracy: 0.2382\n",
            "Epoch 4/10\n",
            "28709/28709 [==============================] - 916s 32ms/sample - loss: 1.4509 - accuracy: 0.4269 - val_loss: 2.7453 - val_accuracy: 0.3339\n",
            "Epoch 5/10\n",
            "28709/28709 [==============================] - 917s 32ms/sample - loss: 1.4282 - accuracy: 0.4313 - val_loss: 2.2654 - val_accuracy: 0.3473\n",
            "Epoch 6/10\n",
            "28709/28709 [==============================] - 896s 31ms/sample - loss: 1.3857 - accuracy: 0.4549 - val_loss: 1.7253 - val_accuracy: 0.4227\n",
            "Epoch 7/10\n",
            "28709/28709 [==============================] - 879s 31ms/sample - loss: 1.3728 - accuracy: 0.4570 - val_loss: 1.9435 - val_accuracy: 0.3473\n",
            "Epoch 8/10\n",
            "28709/28709 [==============================] - 879s 31ms/sample - loss: 1.3684 - accuracy: 0.4663 - val_loss: 2.0441 - val_accuracy: 0.4035\n",
            "Epoch 9/10\n",
            "28709/28709 [==============================] - 893s 31ms/sample - loss: 1.3508 - accuracy: 0.4711 - val_loss: 2.0093 - val_accuracy: 0.3448\n",
            "Epoch 10/10\n",
            "28709/28709 [==============================] - 876s 31ms/sample - loss: 1.4952 - accuracy: 0.4145 - val_loss: 3.4515 - val_accuracy: 0.2650\n"
          ],
          "name": "stdout"
        }
      ]
    },
    {
      "cell_type": "code",
      "metadata": {
        "id": "GHvkhrKQ4pHR",
        "colab_type": "code",
        "outputId": "6123c7b7-bb13-49ea-c2ec-3f613f05319f",
        "colab": {
          "base_uri": "https://localhost:8080/",
          "height": 312
        }
      },
      "source": [
        "plt.plot(model_fitted_1.history['accuracy'], \"-r\", label = \"Training\")\n",
        "plt.plot(model_fitted_1.history['val_accuracy'], \"-y\", label = \"Validation\")\n",
        "plt.legend(loc = 'lower right')\n",
        "plt.title('Training Accuracy vs Validation Accuracy MobileNet Transfer Learning', loc = 'center')\n",
        "plt.xlabel('Epoch')\n",
        "plt.ylabel('Accuracy')\n",
        "#Plot training accuracy vs validation accuracy"
      ],
      "execution_count": 0,
      "outputs": [
        {
          "output_type": "execute_result",
          "data": {
            "text/plain": [
              "Text(0, 0.5, 'Accuracy')"
            ]
          },
          "metadata": {
            "tags": []
          },
          "execution_count": 28
        },
        {
          "output_type": "display_data",
          "data": {
            "image/png": "[encoded data removed]",
            "text/plain": [
              "<Figure size 432x288 with 1 Axes>"
            ]
          },
          "metadata": {
            "tags": []
          }
        }
      ]
    },
    {
      "cell_type": "code",
      "metadata": {
        "id": "_zpGG5z9dqib",
        "colab_type": "code",
        "outputId": "cb0b6f2d-f7c7-4e0a-bd81-9010e7ec16ee",
        "colab": {
          "base_uri": "https://localhost:8080/",
          "height": 51
        }
      },
      "source": [
        "ResNet = tf.keras.applications.ResNet50(input_shape = (48, 48, 3), include_top = False, weights = 'imagenet')\n",
        "#Load ResNet50"
      ],
      "execution_count": 11,
      "outputs": [
        {
          "output_type": "stream",
          "text": [
            "Downloading data from https://github.com/keras-team/keras-applications/releases/download/resnet/resnet50_weights_tf_dim_ordering_tf_kernels_notop.h5\n",
            "94773248/94765736 [==============================] - 1s 0us/step\n"
          ],
          "name": "stdout"
        }
      ]
    },
    {
      "cell_type": "code",
      "metadata": {
        "id": "7YXy5NfBeQQg",
        "colab_type": "code",
        "outputId": "599fd13c-723e-4de6-fb91-93afd4c41d54",
        "colab": {
          "base_uri": "https://localhost:8080/",
          "height": 289
        }
      },
      "source": [
        "model_fitted_2 = tf.keras.Sequential([\n",
        "     ResNet,\n",
        "     tf.keras.layers.GlobalAveragePooling2D(),\n",
        "     tf.keras.layers.Dense(1024, activation = 'relu'),\n",
        "     tf.keras.layers.Dense(7, activation = 'softmax')\n",
        "                                      ])\n",
        "model_fitted_2.summary()\n",
        "#Construct model based on ResNet transfer learning"
      ],
      "execution_count": 12,
      "outputs": [
        {
          "output_type": "stream",
          "text": [
            "Model: \"sequential\"\n",
            "_________________________________________________________________\n",
            "Layer (type)                 Output Shape              Param #   \n",
            "=================================================================\n",
            "resnet50 (Model)             (None, 2, 2, 2048)        23587712  \n",
            "_________________________________________________________________\n",
            "global_average_pooling2d (Gl (None, 2048)              0         \n",
            "_________________________________________________________________\n",
            "dense (Dense)                (None, 1024)              2098176   \n",
            "_________________________________________________________________\n",
            "dense_1 (Dense)              (None, 7)                 7175      \n",
            "=================================================================\n",
            "Total params: 25,693,063\n",
            "Trainable params: 25,639,943\n",
            "Non-trainable params: 53,120\n",
            "_________________________________________________________________\n"
          ],
          "name": "stdout"
        }
      ]
    },
    {
      "cell_type": "code",
      "metadata": {
        "id": "wWhZygTZeYnj",
        "colab_type": "code",
        "colab": {}
      },
      "source": [
        "model_fitted_2.compile(optimizer = 'adam',\n",
        "                       loss = 'categorical_crossentropy',\n",
        "                       metrics = ['accuracy'])\n",
        "#Specify loss and optimizer"
      ],
      "execution_count": 0,
      "outputs": []
    },
    {
      "cell_type": "code",
      "metadata": {
        "id": "zzDIrLcFeh1a",
        "colab_type": "code",
        "colab": {
          "base_uri": "https://localhost:8080/",
          "height": 204
        },
        "outputId": "04d7dbbf-8aed-4a83-962e-05b5b2abcfa6"
      },
      "source": [
        "model_fitted_resnet = model_fitted_2.fit(\n",
        "   X_train_3,\n",
        "   y_train,\n",
        "   epochs = 5,\n",
        "   batch_size = 32, \n",
        "   validation_data = (X_test_3, y_test))\n",
        "#Train model with 5 epochs and batch size 32"
      ],
      "execution_count": 14,
      "outputs": [
        {
          "output_type": "stream",
          "text": [
            "Train on 28709 samples, validate on 7178 samples\n",
            "Epoch 1/5\n",
            "28709/28709 [==============================] - 4632s 161ms/sample - loss: 1.4482 - accuracy: 0.4518 - val_loss: 1.3367 - val_accuracy: 0.4858\n",
            "Epoch 2/5\n",
            "28709/28709 [==============================] - 4591s 160ms/sample - loss: 1.2187 - accuracy: 0.5444 - val_loss: 1.4709 - val_accuracy: 0.4694\n",
            "Epoch 3/5\n",
            "28709/28709 [==============================] - 4710s 164ms/sample - loss: 1.1310 - accuracy: 0.5755 - val_loss: 1.2533 - val_accuracy: 0.5217\n",
            "Epoch 4/5\n",
            "28709/28709 [==============================] - 4619s 161ms/sample - loss: 1.0962 - accuracy: 0.5922 - val_loss: 1.5208 - val_accuracy: 0.4650\n",
            "Epoch 5/5\n",
            "28709/28709 [==============================] - 4628s 161ms/sample - loss: 0.9863 - accuracy: 0.6331 - val_loss: 1.3661 - val_accuracy: 0.4760\n"
          ],
          "name": "stdout"
        }
      ]
    },
    {
      "cell_type": "code",
      "metadata": {
        "id": "remxcCDt16M8",
        "colab_type": "code",
        "colab": {
          "base_uri": "https://localhost:8080/",
          "height": 312
        },
        "outputId": "de7a71fd-f9ad-46eb-f622-e9f6dafc141f"
      },
      "source": [
        "plt.plot(model_fitted_resnet.history['accuracy'], \"-r\", label = \"Training\")\n",
        "plt.plot(model_fitted_resnet.history['val_accuracy'], \"-y\", label = \"Validation\")\n",
        "plt.legend(loc = 'lower right')\n",
        "plt.title('Training Accuracy vs Validation Accuracy ResNet Transfer Learning', loc = 'center')\n",
        "plt.xlabel('Epoch')\n",
        "plt.ylabel('Accuracy')\n",
        "#Plot training accuracy vs validation accuracy"
      ],
      "execution_count": 16,
      "outputs": [
        {
          "output_type": "execute_result",
          "data": {
            "text/plain": [
              "Text(0, 0.5, 'Accuracy')"
            ]
          },
          "metadata": {
            "tags": []
          },
          "execution_count": 16
        },
        {
          "output_type": "display_data",
          "data": {
            "image/png": "[encoded data removed]",
            "text/plain": [
              "<Figure size 432x288 with 1 Axes>"
            ]
          },
          "metadata": {
            "tags": []
          }
        }
      ]
    },
    {
      "cell_type": "code",
      "metadata": {
        "id": "vCSFX5FY2DAN",
        "colab_type": "code",
        "colab": {
          "base_uri": "https://localhost:8080/",
          "height": 51
        },
        "outputId": "c7204490-91d3-42fd-ef89-992952e02999"
      },
      "source": [
        "from tensorflow.keras.applications import VGG19\n",
        "vgg19 = VGG19()\n",
        "#Load VGG19"
      ],
      "execution_count": 17,
      "outputs": [
        {
          "output_type": "stream",
          "text": [
            "Downloading data from https://github.com/fchollet/deep-learning-models/releases/download/v0.1/vgg19_weights_tf_dim_ordering_tf_kernels.h5\n",
            "574717952/574710816 [==============================] - 8s 0us/step\n"
          ],
          "name": "stdout"
        }
      ]
    },
    {
      "cell_type": "code",
      "metadata": {
        "id": "ysF1u3CG9hJn",
        "colab_type": "code",
        "colab": {
          "base_uri": "https://localhost:8080/",
          "height": 799
        },
        "outputId": "c6495dd7-f6e0-4c46-a5f0-fe3fb948cd90"
      },
      "source": [
        "image_size = 48\n",
        "image_channel = 1\n",
        "input_shape = (image_size, image_size, image_channel)\n",
        "\n",
        "vgg_transfer = tf.keras.Sequential([\n",
        "     tf.keras.layers.Conv2D(32, kernel_size = (3, 3), padding = 'same', \n",
        "     activation = 'relu', input_shape = input_shape, name = 'conv_1'),\n",
        "     tf.keras.layers.Conv2D(32, kernel_size = (3, 3), padding = 'same', \n",
        "     activation = 'relu', input_shape = input_shape, name = 'conv_12'),   \n",
        "     tf.keras.layers.MaxPooling2D(pool_size = (2, 2), name = 'pooling_1'),\n",
        "     tf.keras.layers.Dropout(0.5),\n",
        "     tf.keras.layers.Conv2D(64, kernel_size = (3, 3), padding = 'same', \n",
        "     activation = 'relu', name = 'conv_2'),\n",
        "     tf.keras.layers.Conv2D(64, kernel_size = (3, 3), padding = 'valid', \n",
        "     activation = 'relu', name = 'conv_3'),     \n",
        "     tf.keras.layers.MaxPooling2D(pool_size = (2, 2), name = 'pooling_2'),\n",
        "     tf.keras.layers.Dropout(0.5),\n",
        "     tf.keras.layers.Conv2D(96, kernel_size = (3, 3), padding = 'same', \n",
        "     activation = 'relu', name = 'conv_4'),\n",
        "     tf.keras.layers.Conv2D(96, kernel_size = (3, 3), padding = 'valid', \n",
        "     activation = 'relu', name = 'conv_5'),\n",
        "     tf.keras.layers.MaxPooling2D(pool_size = (2, 2), name = 'pooling_3'),\n",
        "     tf.keras.layers.Dropout(0.5),\n",
        "     tf.keras.layers.Conv2D(128, kernel_size = (3, 3), padding = 'same', \n",
        "     activation = 'relu', name = 'conv_6'), \n",
        "     tf.keras.layers.Conv2D(128, kernel_size = (3, 3), padding = 'same', \n",
        "     activation = 'relu', name = 'conv_7'), \n",
        "     tf.keras.layers.MaxPooling2D(pool_size = (2, 2), name = 'pooling_4'),\n",
        "\n",
        "     tf.keras.layers.Dropout(0.5),\n",
        "     tf.keras.layers.Flatten(),\n",
        "     tf.keras.layers.Dense(128, activation = 'relu', name = 'fully_connected_1'),\n",
        "     tf.keras.layers.Dense(7, activation = 'softmax', name = 'fully_connected_2')\n",
        "                                      ])\n",
        "vgg_transfer.summary()\n",
        "#Construct model based on VGG19 transfer learning"
      ],
      "execution_count": 18,
      "outputs": [
        {
          "output_type": "stream",
          "text": [
            "Model: \"sequential_1\"\n",
            "_________________________________________________________________\n",
            "Layer (type)                 Output Shape              Param #   \n",
            "=================================================================\n",
            "conv_1 (Conv2D)              (None, 48, 48, 32)        320       \n",
            "_________________________________________________________________\n",
            "conv_12 (Conv2D)             (None, 48, 48, 32)        9248      \n",
            "_________________________________________________________________\n",
            "pooling_1 (MaxPooling2D)     (None, 24, 24, 32)        0         \n",
            "_________________________________________________________________\n",
            "dropout (Dropout)            (None, 24, 24, 32)        0         \n",
            "_________________________________________________________________\n",
            "conv_2 (Conv2D)              (None, 24, 24, 64)        18496     \n",
            "_________________________________________________________________\n",
            "conv_3 (Conv2D)              (None, 22, 22, 64)        36928     \n",
            "_________________________________________________________________\n",
            "pooling_2 (MaxPooling2D)     (None, 11, 11, 64)        0         \n",
            "_________________________________________________________________\n",
            "dropout_1 (Dropout)          (None, 11, 11, 64)        0         \n",
            "_________________________________________________________________\n",
            "conv_4 (Conv2D)              (None, 11, 11, 96)        55392     \n",
            "_________________________________________________________________\n",
            "conv_5 (Conv2D)              (None, 9, 9, 96)          83040     \n",
            "_________________________________________________________________\n",
            "pooling_3 (MaxPooling2D)     (None, 4, 4, 96)          0         \n",
            "_________________________________________________________________\n",
            "dropout_2 (Dropout)          (None, 4, 4, 96)          0         \n",
            "_________________________________________________________________\n",
            "conv_6 (Conv2D)              (None, 4, 4, 128)         110720    \n",
            "_________________________________________________________________\n",
            "conv_7 (Conv2D)              (None, 4, 4, 128)         147584    \n",
            "_________________________________________________________________\n",
            "pooling_4 (MaxPooling2D)     (None, 2, 2, 128)         0         \n",
            "_________________________________________________________________\n",
            "dropout_3 (Dropout)          (None, 2, 2, 128)         0         \n",
            "_________________________________________________________________\n",
            "flatten (Flatten)            (None, 512)               0         \n",
            "_________________________________________________________________\n",
            "fully_connected_1 (Dense)    (None, 128)               65664     \n",
            "_________________________________________________________________\n",
            "fully_connected_2 (Dense)    (None, 7)                 903       \n",
            "=================================================================\n",
            "Total params: 528,295\n",
            "Trainable params: 528,295\n",
            "Non-trainable params: 0\n",
            "_________________________________________________________________\n"
          ],
          "name": "stdout"
        }
      ]
    },
    {
      "cell_type": "code",
      "metadata": {
        "id": "2a2tbP2O_U3q",
        "colab_type": "code",
        "colab": {
          "base_uri": "https://localhost:8080/",
          "height": 374
        },
        "outputId": "19560e89-fb36-4521-d739-cd86ec92228a"
      },
      "source": [
        "batch_size = 32\n",
        "epochs = 10\n",
        "\n",
        "vgg_transfer.compile(loss = \"categorical_crossentropy\", optimizer = 'adam', metrics = ['accuracy'])\n",
        "history = vgg_transfer.fit(X_train, y_train,\n",
        "                    epochs=epochs,\n",
        "                    batch_size=batch_size, \n",
        "                    validation_data=(X_test, y_test))\n",
        "#Specify loss and optimizer and train the model with 10 epochs and batch size 32"
      ],
      "execution_count": 23,
      "outputs": [
        {
          "output_type": "stream",
          "text": [
            "Train on 28709 samples, validate on 7178 samples\n",
            "Epoch 1/10\n",
            "28709/28709 [==============================] - 455s 16ms/sample - loss: 1.8721 - accuracy: 0.2492 - val_loss: 1.8154 - val_accuracy: 0.2441\n",
            "Epoch 2/10\n",
            "28709/28709 [==============================] - 458s 16ms/sample - loss: 1.7874 - accuracy: 0.2606 - val_loss: 1.7796 - val_accuracy: 0.2583\n",
            "Epoch 3/10\n",
            "28709/28709 [==============================] - 455s 16ms/sample - loss: 1.7433 - accuracy: 0.2824 - val_loss: 1.7699 - val_accuracy: 0.2823\n",
            "Epoch 4/10\n",
            "28709/28709 [==============================] - 454s 16ms/sample - loss: 1.7169 - accuracy: 0.3019 - val_loss: 1.6977 - val_accuracy: 0.3008\n",
            "Epoch 5/10\n",
            "28709/28709 [==============================] - 450s 16ms/sample - loss: 1.6707 - accuracy: 0.3286 - val_loss: 1.6310 - val_accuracy: 0.3546\n",
            "Epoch 6/10\n",
            "28709/28709 [==============================] - 451s 16ms/sample - loss: 1.6257 - accuracy: 0.3598 - val_loss: 1.5516 - val_accuracy: 0.3951\n",
            "Epoch 7/10\n",
            "28709/28709 [==============================] - 451s 16ms/sample - loss: 1.5747 - accuracy: 0.3806 - val_loss: 1.4867 - val_accuracy: 0.4164\n",
            "Epoch 8/10\n",
            "28709/28709 [==============================] - 452s 16ms/sample - loss: 1.5366 - accuracy: 0.3974 - val_loss: 1.4646 - val_accuracy: 0.4149\n",
            "Epoch 9/10\n",
            "28709/28709 [==============================] - 451s 16ms/sample - loss: 1.5100 - accuracy: 0.4106 - val_loss: 1.5597 - val_accuracy: 0.4030\n",
            "Epoch 10/10\n",
            "28709/28709 [==============================] - 454s 16ms/sample - loss: 1.4794 - accuracy: 0.4270 - val_loss: 1.3889 - val_accuracy: 0.4512\n"
          ],
          "name": "stdout"
        }
      ]
    },
    {
      "cell_type": "code",
      "metadata": {
        "id": "A-5xB4MqVkIN",
        "colab_type": "code",
        "colab": {
          "base_uri": "https://localhost:8080/",
          "height": 573
        },
        "outputId": "94c1d993-08cb-40ce-9ae5-489b0e276cb3"
      },
      "source": [
        "plt.plot(history.history['accuracy'])\n",
        "plt.plot(history.history['val_accuracy'])\n",
        "plt.title('model accuracy')\n",
        "plt.ylabel('accuracy')\n",
        "plt.xlabel('epoch')\n",
        "plt.legend(['train', 'test'], loc='upper left')\n",
        "plt.show()\n",
        "# summarize history for loss\n",
        "plt.plot(history.history['loss'])\n",
        "plt.plot(history.history['val_loss'])\n",
        "plt.title('model loss')\n",
        "plt.ylabel('loss')\n",
        "plt.xlabel('epoch')\n",
        "plt.legend(['train', 'test'], loc='upper left')\n",
        "plt.show()"
      ],
      "execution_count": 25,
      "outputs": [
        {
          "output_type": "display_data",
          "data": {
            "image/png": "[encoded data removed]",
            "text/plain": [
              "<Figure size 432x288 with 1 Axes>"
            ]
          },
          "metadata": {
            "tags": []
          }
        },
        {
          "output_type": "display_data",
          "data": {
            "image/png": "[encoded data removed]",
            "text/plain": [
              "<Figure size 432x288 with 1 Axes>"
            ]
          },
          "metadata": {
            "tags": []
          }
        }
      ]
    }
  ]
}