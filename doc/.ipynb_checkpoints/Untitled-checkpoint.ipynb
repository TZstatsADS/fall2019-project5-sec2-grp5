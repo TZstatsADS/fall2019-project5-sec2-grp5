{
 "cells": [
  {
   "cell_type": "markdown",
   "metadata": {},
   "source": [
    "# Split train and test set"
   ]
  },
  {
   "cell_type": "code",
   "execution_count": 11,
   "metadata": {},
   "outputs": [],
   "source": [
    "# #shuffle test and train images\n",
    "# import random\n",
    "# import os\n",
    "# import shutil\n",
    "\n",
    "# path_img = '/Users/rong/Documents/Columbia_python_jupyter_notebook/fall2019-proj5-sec2--proj5-grp5/data/train_set/images/'\n",
    "\n",
    "# path_test_img = '/Users/rong/Documents/Columbia_python_jupyter_notebook/fall2019-proj5-sec2--proj5-grp5/data/train_set/test_images/'\n",
    "\n",
    "# images = os.listdir(path_img)\n",
    "# random.shuffle(images)\n",
    "# test_set = images[-len(images)//5:]\n",
    "# for image in test_set:\n",
    "\n",
    "#     shutil.move(os.path.join(path_img, image), os.path.join(path_test_img, image))\n",
    " "
   ]
  },
  {
   "cell_type": "markdown",
   "metadata": {},
   "source": [
    "# Packages"
   ]
  },
  {
   "cell_type": "code",
   "execution_count": 6,
   "metadata": {},
   "outputs": [],
   "source": [
    "import cv2\n",
    "import pandas as pd\n",
    "import matplotlib.pyplot as plt\n",
    "import numpy as np\n",
    "import sys\n"
   ]
  },
  {
   "cell_type": "markdown",
   "metadata": {},
   "source": [
    "# Data and Global variable"
   ]
  },
  {
   "cell_type": "code",
   "execution_count": 7,
   "metadata": {},
   "outputs": [],
   "source": [
    "\n",
    "path_label = '/Users/rong/Documents/Columbia_python_jupyter_notebook/fall2019-proj5-sec2--proj5-grp5/data/train_set/label.csv'\n",
    "path_img = '/Users/rong/Documents/Columbia_python_jupyter_notebook/fall2019-proj5-sec2--proj5-grp5/data/train_set/images/'\n",
    "path_test_img = '/Users/rong/Documents/Columbia_python_jupyter_notebook/fall2019-proj5-sec2--proj5-grp5/data/train_set/test_images/'"
   ]
  },
  {
   "cell_type": "code",
   "execution_count": 8,
   "metadata": {},
   "outputs": [],
   "source": [
    "label = pd.read_csv(path_label)"
   ]
  },
  {
   "cell_type": "code",
   "execution_count": 9,
   "metadata": {},
   "outputs": [
    {
     "data": {
      "text/plain": [
       "{'Angrily disgusted',\n",
       " 'Angrily surprised',\n",
       " 'Angry',\n",
       " 'Appalled',\n",
       " 'Awed',\n",
       " 'Disgusted',\n",
       " 'Disgustedly surprised',\n",
       " 'Fearful',\n",
       " 'Fearfully angry',\n",
       " 'Fearfully disgusted',\n",
       " 'Fearfully surprised',\n",
       " 'Happily disgusted',\n",
       " 'Happily surprised',\n",
       " 'Happy',\n",
       " 'Hatred',\n",
       " 'Neutral',\n",
       " 'Sad',\n",
       " 'Sadly angry',\n",
       " 'Sadly disgusted',\n",
       " 'Sadly fearful',\n",
       " 'Sadly surprised',\n",
       " 'Surprised'}"
      ]
     },
     "execution_count": 9,
     "metadata": {},
     "output_type": "execute_result"
    }
   ],
   "source": [
    "set(label['emotion_cat'])"
   ]
  },
  {
   "cell_type": "code",
   "execution_count": null,
   "metadata": {},
   "outputs": [],
   "source": [
    "plt.hist(label['emotion_cat'])"
   ]
  },
  {
   "cell_type": "code",
   "execution_count": null,
   "metadata": {},
   "outputs": [],
   "source": []
  }
 ],
 "metadata": {
  "kernelspec": {
   "display_name": "Python 3",
   "language": "python",
   "name": "python3"
  },
  "language_info": {
   "codemirror_mode": {
    "name": "ipython",
    "version": 3
   },
   "file_extension": ".py",
   "mimetype": "text/x-python",
   "name": "python",
   "nbconvert_exporter": "python",
   "pygments_lexer": "ipython3",
   "version": "3.7.1"
  }
 },
 "nbformat": 4,
 "nbformat_minor": 2
}
