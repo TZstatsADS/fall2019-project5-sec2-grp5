{
 "cells": [
  {
   "cell_type": "code",
   "execution_count": null,
   "metadata": {},
   "outputs": [],
   "source": [
    "def fer2013_img(img_int,fer2013_path):\n",
    "    \"\"\"return an image of given index of img\n",
    "    Input\n",
    "    -----\n",
    "        fer2013_path:path of fer2013_file\n",
    "        img_int:int\"\"\"\n",
    "    \n",
    "    fer2013 = np.genfromtxt(fer2013_path, delimiter=',', dtype=None, encoding='utf8')\n",
    "    image = fer2013[img_int][1]\n",
    "    image_width, image_height =48, 48\n",
    "    result = np.fromstring(image, dtype=int, sep=\" \").reshape((image_height, image_width))\n",
    "    plt.imshow(result)\n",
    "    plt.show()"
   ]
  }
 ],
 "metadata": {
  "kernelspec": {
   "display_name": "Python 3",
   "language": "python",
   "name": "python3"
  },
  "language_info": {
   "codemirror_mode": {
    "name": "ipython",
    "version": 3
   },
   "file_extension": ".py",
   "mimetype": "text/x-python",
   "name": "python",
   "nbconvert_exporter": "python",
   "pygments_lexer": "ipython3",
   "version": "3.7.3"
  }
 },
 "nbformat": 4,
 "nbformat_minor": 2
}
